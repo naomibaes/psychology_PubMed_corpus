{
  "cells": [
    {
      "cell_type": "markdown",
      "metadata": {
        "id": "HxVuPOAoHugh"
      },
      "source": [
        "Authors: Naomi Baes & Chat GPT"
      ]
    },
    {
      "cell_type": "markdown",
      "metadata": {
        "id": "CfmGb9BAN0RQ"
      },
      "source": [
        "test/inspect df (dynamically detects the current working directory and build file path relative to it)"
      ]
    },
    {
      "cell_type": "code",
      "execution_count": 12,
      "metadata": {
        "colab": {
          "base_uri": "https://localhost:8080/"
        },
        "id": "72r3DmuHLTQt",
        "outputId": "9a0fe0b8-3be1-445a-9811-56468c18fe5c"
      },
      "outputs": [
        {
          "name": "stdout",
          "output_type": "stream",
          "text": [
            "Rank;Sourceid;Title;Type;Issn;SJR;SJR Quartile;H index;Total Docs. (2023);Total Docs. (3years);Total Refs.;Total Cites (3years);Citable Docs. (3years);Cites / Doc. (2years);Ref. / Doc.;Country;Region;Publisher;Coverage;Categories;Areas\n",
            "\n",
            "1;21100863710;\"Annual Review of Organizational Psychology and Organizational Behavior\";journal;\"23270608\";7,706;Q1;75;21;52;2494;950;49;16,48;118,76;United States;Northern America;\"Annual Reviews Inc.\";\"2014-2023\";\"Applied Psychology (Q1); Organizational Behavior and Human Resource Management (Q1); Social Psychology (Q1)\";\"Business, Management and Accounting; Psychology\"\n",
            "\n",
            "2;21100838541;\"Nature Human Behaviour\";journal;\"23973374\";6,097;Q1;98;263;623;13887;9322;448;13,00;52,80;United Kingdom;Western Europe;\"Nature Publishing Group\";\"2017-2023\";\"Behavioral Neuroscience (Q1); Experimental and Cognitive Psychology (Q1); Social Psychology (Q1)\";\"Neuroscience; Psychology\"\n",
            "\n",
            "3;12812;\"Personality and Social Psychology Review\";journal;\"10888683, 15327957\";4,795;Q1;185;22;40;4086;492;39;8,68;185,73;United States;Northern America;\"SAGE Publications Inc.\";\"1997-2023\";\"Social Psychology (Q1)\";\"Psychology\"\n",
            "\n",
            "4;30039;\"Journal of Personality and Social Psychology\";journal;\"00223514\";3,610;Q1;434;93;438;8471;3295;436;5,79;91,09;United States;Northern America;\"American Psychological Association\";\"1965-2023\";\"Social Psychology (Q1); Sociology and Political Science (Q1)\";\"Psychology; Social Sciences\"\n",
            "\n"
          ]
        }
      ],
      "source": [
        "import os\n",
        "\n",
        "# Detect the current working directory\n",
        "current_dir = os.getcwd()\n",
        "\n",
        "# Build the file path relative to the current working directory\n",
        "file_name = 'scimagojr 2023 Subject Category - Social Psychology.csv'\n",
        "file_path = os.path.join(current_dir, 'input', file_name)\n",
        "\n",
        "# Open and read the file\n",
        "with open(file_path, 'r') as file:\n",
        "    for i in range(5):  # Print the first 5 lines\n",
        "        line = file.readline()\n",
        "        print(line)\n"
      ]
    },
    {
      "cell_type": "markdown",
      "metadata": {
        "id": "K58hplWEkus0"
      },
      "source": [
        "load the data files, add a column for subject_category, and combine them in one df to save"
      ]
    },
    {
      "cell_type": "code",
      "execution_count": 1,
      "metadata": {
        "colab": {
          "base_uri": "https://localhost:8080/",
          "height": 71
        },
        "id": "7hFRrY022-Ft",
        "outputId": "6c67c493-7125-4256-c3ce-79c77fbcba4a"
      },
      "outputs": [
        {
          "name": "stdout",
          "output_type": "stream",
          "text": [
            "Number of unique titles: 1376\n",
            "Number of duplicates based on Sourceid: 404\n",
            "Combined CSV file saved successfully.\n"
          ]
        }
      ],
      "source": [
        "import pandas as pd\n",
        "import os\n",
        "\n",
        "# input_folder is defined\n",
        "input_folder = 'input'\n",
        "\n",
        "# file paths\n",
        "file_paths = [\n",
        "    os.path.join(input_folder, \"scimagojr 2023 Subject Category - Social Psychology.csv\"),\n",
        "    os.path.join(input_folder, \"scimagojr 2023 Subject Category - Developmental and Educational Psychology.csv\"),\n",
        "    os.path.join(input_folder, \"scimagojr 2023 Subject Category - Psychology (miscellaneous).csv\"),\n",
        "    os.path.join(input_folder, \"scimagojr 2023 Subject Category - Clinical Psychology.csv\"),\n",
        "    os.path.join(input_folder, \"scimagojr 2023 Subject Category - Neuropsychology and Physiological Psychology.csv\"),\n",
        "    os.path.join(input_folder, \"scimagojr 2023 Subject Category - Applied Psychology.csv\"),\n",
        "    os.path.join(input_folder, \"scimagojr 2023 Subject Category - Experimental and Cognitive Psychology.csv\")\n",
        "]\n",
        "\n",
        "selected_columns = [\"Sourceid\", \"Issn\", \"Title\", \"Type\"]  # Specify columns you want to select\n",
        "\n",
        "dfs = []  # List to store DataFrames\n",
        "\n",
        "for file_path in file_paths:\n",
        "    try:\n",
        "        # Extract subject category from file name\n",
        "        subject_category = file_path.split(\" - \")[1].split(\".\")[0].replace(\" \", \"_\")\n",
        "\n",
        "        df = pd.read_csv(file_path, sep=';', usecols=selected_columns)  # Read only selected columns\n",
        "        df['Subject_Category'] = subject_category  # Add subject category column\n",
        "        dfs.append(df)\n",
        "    except Exception as e:\n",
        "        print(f\"Error loading file: {file_path}\")\n",
        "        print(e)\n",
        "\n",
        "if dfs:  # Check if dfs is not empty\n",
        "    combined_df = pd.concat(dfs, ignore_index=True)\n",
        "    print(\"Number of unique titles:\", combined_df['Title'].nunique())  # Print number of unique titles\n",
        "\n",
        "    # Check for duplicates based on Sourceid\n",
        "    num_duplicates = combined_df.duplicated(subset='Sourceid').sum()\n",
        "    print(\"Number of duplicates based on Sourceid:\", num_duplicates)\n",
        "\n",
        "    # Save DataFrame to CSV file\n",
        "    combined_csv_file_path = \"input/1_scimago_jr_subject_category.csv\"\n",
        "    combined_df.to_csv(combined_csv_file_path, index=False)\n",
        "\n",
        "    print(\"Combined CSV file saved successfully.\")\n",
        "else:\n",
        "    print(\"No data loaded. Check file paths and headers.\")"
      ]
    },
    {
      "cell_type": "markdown",
      "metadata": {},
      "source": [
        "Example of pubmed journal chunks\n",
        "\n",
        "JrId: 2 \\\\\n",
        "JournalTitle: AANA journal \\\\\n",
        "MedAbbr: AANA J \\\\\n",
        "ISSN (Print): 0094-6354 \\\\\n",
        "ISSN (Online): 2162-5239 \\\\\n",
        "IsoAbbr: AANA J \\\\\n",
        "NlmId: 0431420 \\\\\n",
        "\n",
        "![image.png](data:image/png;base64,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)"
      ]
    },
    {
      "cell_type": "markdown",
      "metadata": {
        "id": "r29j1OROJHrD"
      },
      "source": [
        "Now carry out matching between the data sets and save a final combined matching df"
      ]
    },
    {
      "cell_type": "code",
      "execution_count": 4,
      "metadata": {
        "colab": {
          "base_uri": "https://localhost:8080/",
          "height": 1000
        },
        "id": "uUIZkc3EgeUX",
        "outputId": "60375224-06fe-4203-a3e8-fd19cf7c9a7a"
      },
      "outputs": [
        {
          "name": "stdout",
          "output_type": "stream",
          "text": [
            "\n",
            "Rows where ISSN_Print_pubmed and ISSN_SM do not match:\n",
            "    JrId_pubmed                                JournalTitle_pubmed  \\\n",
            "127        7390                                  Social psychology   \n",
            "133        8145  Zeitschrift fur klinische Psychologie und Psyc...   \n",
            "193       25292                                           Dialogue   \n",
            "276       27812                           Merrill-Palmer quarterly   \n",
            "377       34115              European journal of behavior analysis   \n",
            "705       46950         Comprehensive results in social psychology   \n",
            "735       48196  Research and practice in technology enhanced l...   \n",
            "736       48231                      Journal of language evolution   \n",
            "755       49055              Journal of cultural cognitive science   \n",
            "756       49240                      International journal of play   \n",
            "763       49625        Journal of behavioral and cognitive therapy   \n",
            "781       50302  Journal of the Academy of Consultation-Liaison...   \n",
            "\n",
            "    ISSN_Print_pubmed  Sourceid_SM  \\\n",
            "127         0147-829X  19700188900   \n",
            "133         0300-869X        15914   \n",
            "193         0012-2173  21100213000   \n",
            "276         0272-9679        12691   \n",
            "377         1502-1149  21100899439   \n",
            "705         2374-3603  21100887623   \n",
            "735         1793-2068  21100899309   \n",
            "736         2058-4571  21100896922   \n",
            "755         2520-100X  21101041530   \n",
            "756         2159-4937  21100870589   \n",
            "763         2666-3473  21101041510   \n",
            "781         2667-2979  21101039273   \n",
            "\n",
            "                                              Title_SM             ISSN_SM  \\\n",
            "127                                  social psychology  18649335, 21512590   \n",
            "133  zeitschrift fur klinische psychologie und psyc...  21906297, 16163443   \n",
            "193                                           dialogue            02428962   \n",
            "276                           merrill-palmer quarterly  0272930X, 15350266   \n",
            "377              european journal of behavior analysis            2377729X   \n",
            "705         comprehensive results in social psychology            23743611   \n",
            "735  research and practice in technology enhanced l...            17937078   \n",
            "736                      journal of language evolution            2058458X   \n",
            "755              journal of cultural cognitive science            25201018   \n",
            "756                      international journal of play            21594953   \n",
            "763        journal of behavioral and cognitive therapy            25899791   \n",
            "781  journal of the academy of consultation-liaison...            26672960   \n",
            "\n",
            "     Type_SM                       Subject_Category_SM  Matched_ISSN  \n",
            "127  journal                         Social_Psychology         False  \n",
            "133  journal                       Clinical_Psychology         False  \n",
            "193  journal                         Social_Psychology         False  \n",
            "276  journal  Developmental_and_Educational_Psychology         False  \n",
            "377  journal                Psychology_(miscellaneous)         False  \n",
            "705  journal                         Social_Psychology         False  \n",
            "735  journal                         Social_Psychology         False  \n",
            "736  journal  Developmental_and_Educational_Psychology         False  \n",
            "755  journal     Experimental_and_Cognitive_Psychology         False  \n",
            "756  journal  Developmental_and_Educational_Psychology         False  \n",
            "763  journal                       Clinical_Psychology         False  \n",
            "781  journal                       Clinical_Psychology         False  \n",
            "\n",
            "Total number of rows where ISSN do not match: 12\n",
            "Rows (including mismatching ISSN rows) saved to input/2_pubmed_SM_matched_journals.csv\n",
            "Duplicates saved to input/duplicates.csv\n"
          ]
        }
      ],
      "source": [
        "import pandas as pd\n",
        "import requests\n",
        "import re\n",
        "\n",
        "# Load the filtered DataFrame and lowercase the 'Title' column\n",
        "filtered_df = pd.read_csv(\"input/1_scimago_jr_subject_category.csv\")\n",
        "filtered_df['Title'] = filtered_df['Title'].str.lower()\n",
        "\n",
        "# Fetch and parse the text file containing PubMed journals from the provided link\n",
        "url = \"https://ftp.ncbi.nih.gov/pubmed/J_Medline.txt\"\n",
        "response = requests.get(url)\n",
        "if response.status_code == 200:\n",
        "    text = response.text\n",
        "else:\n",
        "    print(\"Failed to fetch data from the provided URL.\")\n",
        "    text = None\n",
        "\n",
        "# Function to check for direct matches and extract information\n",
        "def check_direct_matches_and_extract(chunk, scimago_titles, scimago_df):\n",
        "    jr_id_match = re.search(r\"JrId: (\\d+)\", chunk)\n",
        "    if jr_id_match:\n",
        "        jr_id = jr_id_match.group(1)\n",
        "    else:\n",
        "        return []\n",
        "\n",
        "    title_match = re.search(r\"JournalTitle: (.+)\", chunk)\n",
        "    if title_match:\n",
        "        journal_title = title_match.group(1)\n",
        "    else:\n",
        "        return []\n",
        "\n",
        "    issn_print_match = re.search(r\"ISSN \\(Print\\): (\\d{4}-\\d{3}[\\dxX])\", chunk)\n",
        "    issn_print = issn_print_match.group(1) if issn_print_match else None\n",
        "\n",
        "    # Remove dashes for matching purposes\n",
        "    issn_print_clean = issn_print.replace(\"-\", \"\") if issn_print else None\n",
        "\n",
        "    # Direct matching based on journal titles and ISSN\n",
        "    matched_data = []\n",
        "    for scimago_title in scimago_titles:\n",
        "        if journal_title.lower() == scimago_title.lower():\n",
        "            # Find the matching row in the Scimago DataFrame\n",
        "            matching_row = scimago_df[scimago_df['Title'] == scimago_title].iloc[0]\n",
        "            scimago_issns = [issn.replace(\"-\", \"\") for issn in matching_row['Issn'].split(', ')]\n",
        "            matched_ISSN = issn_print_clean in scimago_issns\n",
        "            matched_data.append({\n",
        "                'JrId_pubmed': jr_id,\n",
        "                'JournalTitle_pubmed': journal_title,\n",
        "                'ISSN_Print_pubmed': issn_print,\n",
        "                'Sourceid_SM': matching_row['Sourceid'],\n",
        "                'Title_SM': scimago_title,\n",
        "                'ISSN_SM': matching_row['Issn'],\n",
        "                'Type_SM': matching_row['Type'],\n",
        "                'Subject_Category_SM': matching_row['Subject_Category'],\n",
        "                'Matched_ISSN': matched_ISSN\n",
        "            })\n",
        "    return matched_data\n",
        "\n",
        "# Get a list of journal titles from the filtered DataFrame\n",
        "scimago_titles = filtered_df['Title'].tolist()\n",
        "\n",
        "# Check for direct matches and extract information\n",
        "if text:\n",
        "    matched_data = []\n",
        "    for chunk in text.split(\"--------------------------------------------------------\"):\n",
        "        matched_data.extend(check_direct_matches_and_extract(chunk, scimago_titles, filtered_df))\n",
        "\n",
        "    # Create DataFrame from matched data\n",
        "    matched_df_direct = pd.DataFrame(matched_data)\n",
        "\n",
        "    # Remove duplicates by keeping only the first occurrence\n",
        "    matched_df_no_duplicates = matched_df_direct.drop_duplicates(subset=['JrId_pubmed'], keep='first')\n",
        "\n",
        "    # Print rows where ISSN_Print_pubmed and ISSN_SM do not match\n",
        "    unmatched_issn_rows = matched_df_no_duplicates[\n",
        "        ~matched_df_no_duplicates['Matched_ISSN'] & matched_df_no_duplicates['ISSN_Print_pubmed'].notnull()\n",
        "    ]\n",
        "\n",
        "    print(\"\\nRows where ISSN_Print_pubmed and ISSN_SM do not match:\")\n",
        "    print(unmatched_issn_rows)\n",
        "\n",
        "    # Print the total number of rows where ISSN do not match\n",
        "    print(f\"\\nTotal number of rows where ISSN do not match: {len(unmatched_issn_rows)}\")\n",
        "\n",
        "    # Save rows without duplicates to CSV file\n",
        "    no_duplicates_csv_file_path = \"input/2_pubmed_SM_matched_journals.csv\"\n",
        "    matched_df_no_duplicates.to_csv(no_duplicates_csv_file_path, index=False)\n",
        "    print(f\"Rows (including mismatching ISSN rows) saved to {no_duplicates_csv_file_path}\")\n",
        "\n",
        "    # Find and save duplicates\n",
        "    duplicates = matched_df_direct[matched_df_direct.duplicated(subset=['JrId_pubmed'], keep=False)]\n",
        "    if not duplicates.empty:\n",
        "        duplicates_csv_file_path = \"input/duplicates.csv\"\n",
        "        duplicates.to_csv(duplicates_csv_file_path, index=False)\n",
        "        print(f\"Duplicates saved to {duplicates_csv_file_path}\")\n",
        "    else:\n",
        "        print(\"No duplicates found.\")\n",
        "\n",
        "else:\n",
        "    print(\"No data fetched from the URL.\")"
      ]
    },
    {
      "cell_type": "markdown",
      "metadata": {},
      "source": [
        "Descriptives by subject category"
      ]
    },
    {
      "cell_type": "code",
      "execution_count": 5,
      "metadata": {},
      "outputs": [
        {
          "name": "stdout",
          "output_type": "stream",
          "text": [
            "Total number of rows in the DataFrame: 623\n",
            "\n",
            "Number of rows grouped by subject category (sorted by counts in descending order):\n",
            "Subject_Category_SM\n",
            "Developmental_and_Educational_Psychology        148\n",
            "Social_Psychology                               138\n",
            "Clinical_Psychology                             116\n",
            "Psychology_(miscellaneous)                      105\n",
            "Applied_Psychology                               59\n",
            "Experimental_and_Cognitive_Psychology            38\n",
            "Neuropsychology_and_Physiological_Psychology     19\n",
            "dtype: int64\n"
          ]
        }
      ],
      "source": [
        "import pandas as pd\n",
        "\n",
        "# Read the CSV file into a DataFrame\n",
        "df = pd.read_csv(\"input/2_pubmed_SM_matched_journals.csv\")\n",
        "\n",
        "# Group the DataFrame by 'Subject_Category_SM' and count the number of rows in each group\n",
        "category_counts = df.groupby('Subject_Category_SM').size()\n",
        "\n",
        "# Sort the counts in descending order\n",
        "category_counts_sorted = category_counts.sort_values(ascending=False)\n",
        "\n",
        "# Print the total number of rows in the DataFrame\n",
        "print(\"Total number of rows in the DataFrame:\", len(df))\n",
        "\n",
        "# Print the number of rows grouped by subject category, sorted from largest to smallest counts\n",
        "print(\"\\nNumber of rows grouped by subject category (sorted by counts in descending order):\")\n",
        "print(category_counts_sorted)\n"
      ]
    }
  ],
  "metadata": {
    "colab": {
      "provenance": []
    },
    "kernelspec": {
      "display_name": "base",
      "language": "python",
      "name": "python3"
    },
    "language_info": {
      "codemirror_mode": {
        "name": "ipython",
        "version": 3
      },
      "file_extension": ".py",
      "mimetype": "text/x-python",
      "name": "python",
      "nbconvert_exporter": "python",
      "pygments_lexer": "ipython3",
      "version": "3.11.4"
    }
  },
  "nbformat": 4,
  "nbformat_minor": 0
}
